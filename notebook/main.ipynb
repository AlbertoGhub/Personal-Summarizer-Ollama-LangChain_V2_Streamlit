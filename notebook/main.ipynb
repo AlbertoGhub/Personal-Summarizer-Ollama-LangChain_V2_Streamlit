{
 "cells": [
  {
   "cell_type": "markdown",
   "id": "399f6fc7-c68c-45f8-bc61-7c1c1901369b",
   "metadata": {},
   "source": [
    "# Importing libraries"
   ]
  },
  {
   "cell_type": "code",
   "execution_count": 1,
   "id": "b16f3c7d-fae2-4ad4-8dc8-7f1caf4d4dfb",
   "metadata": {},
   "outputs": [],
   "source": [
    "# LangChain\n",
    "from langchain.prompts import ChatPromptTemplate, PromptTemplate\n",
    "from langchain_core.output_parsers import StrOutputParser\n",
    "from langchain_ollama.chat_models import ChatOllama\n",
    "from langchain_core.runnables import RunnablePassthrough\n",
    "from langchain.retrievers.multi_query import MultiQueryRetriever\n",
    "\n",
    "# Removing warnings\n",
    "import warnings\n",
    "warnings.filterwarnings('ignore')\n",
    "\n",
    "# System libraries\n",
    "import sys\n",
    "import os\n",
    "\n",
    "# Add the parent directory to sys.path\n",
    "sys.path.append(os.path.abspath('../src'))\n",
    "\n",
    "# Importing modules\n",
    "from modules.ingesting import loading_PDF, chunking, data_base\n",
    "from modules.chat_app import chat_interface"
   ]
  },
  {
   "cell_type": "markdown",
   "id": "8f561765-cb1b-4b3d-aa2f-21a75b14682c",
   "metadata": {},
   "source": [
    "# Loading PDF"
   ]
  },
  {
   "cell_type": "code",
   "execution_count": 2,
   "id": "1646122a-43b6-43b4-a544-1108fa679a38",
   "metadata": {},
   "outputs": [
    {
     "name": "stdout",
     "output_type": "stream",
     "text": [
      "Loading the document...\n",
      "PDF loaded successfully\n"
     ]
    }
   ],
   "source": [
    "pdf = loading_PDF('../data/PDFs/Sustainable_development_of_distance_learning_in_continuing_adult_education__The impact_of_artificial_intelligence.pdf') # Please, input the PDF path"
   ]
  },
  {
   "cell_type": "markdown",
   "id": "a6b732e8-271e-4f81-bac7-6f60df47b53a",
   "metadata": {},
   "source": [
    "# Embedding process\n",
    "- ```Chunking```\n",
    "- Adding to the database ```(Chroma)```\n",
    "- ```RAG (retrival - Summirisation)```\n",
    "\n",
    "## Chunking"
   ]
  },
  {
   "cell_type": "code",
   "execution_count": 3,
   "id": "bc0cce18-afee-4944-99d6-f78910b1c1ac",
   "metadata": {},
   "outputs": [
    {
     "name": "stdout",
     "output_type": "stream",
     "text": [
      "The chunking process is complete with a final number of chunks of 32\n"
     ]
    }
   ],
   "source": [
    "chunks = chunking(pdf);"
   ]
  },
  {
   "cell_type": "markdown",
   "id": "6f2be6f9-ad4d-4d22-a218-ebf01ee2108f",
   "metadata": {},
   "source": [
    "## Adding to the database (Chroma)"
   ]
  },
  {
   "cell_type": "code",
   "execution_count": 4,
   "id": "d328aa56-6534-46c6-b6c1-b8b5ed2fdf19",
   "metadata": {},
   "outputs": [
    {
     "name": "stdout",
     "output_type": "stream",
     "text": [
      "Vector database created successfully\n"
     ]
    }
   ],
   "source": [
    "data_base = data_base(chunks)"
   ]
  },
  {
   "cell_type": "markdown",
   "id": "eac1bd26-66ca-435a-8165-d63744e5a940",
   "metadata": {},
   "source": [
    "## RAG\n",
    "In this case, the Gemma2 model was implemented because it is faster, but it was already tested on llama3.2, which is more robust. "
   ]
  },
  {
   "cell_type": "code",
   "execution_count": 5,
   "id": "8bd20366-185f-4dc7-8c2c-5bc13d8ba048",
   "metadata": {},
   "outputs": [],
   "source": [
    "# LLM\n",
    "llm = ChatOllama(model='Gemma2')\n",
    "\n",
    "# Template\n",
    "prompt = PromptTemplate(\n",
    "    input_variables=[\"question\"],\n",
    "    template=\"\"\"You are an AI language model assistant. Your task is to generate 2\n",
    "    different versions of the given user question to retrieve relevant documents from\n",
    "    a vector database. By generating multiple perspectives on the user question, your\n",
    "    goal is to help the user overcome some of the limitations of the distance-based\n",
    "    similarity search. Provide these alternative questions separated by newlines.\n",
    "    Original question: {question}\"\"\",\n",
    ")\n",
    "\n",
    "# Retrieving\n",
    "retriever = MultiQueryRetriever.from_llm(\n",
    "    data_base.as_retriever(), \n",
    "    llm,\n",
    "    prompt=prompt\n",
    ")"
   ]
  },
  {
   "cell_type": "markdown",
   "id": "dc6c0efd-0c42-4c45-8a2a-5991966d0625",
   "metadata": {},
   "source": [
    "# Create chain"
   ]
  },
  {
   "cell_type": "code",
   "execution_count": 6,
   "id": "201e2d1d-45db-4f25-933f-f33d1c7c004b",
   "metadata": {},
   "outputs": [],
   "source": [
    "# RAG prompt template\n",
    "template = \"\"\"Answer the question based ONLY on the following context: {context}\n",
    "Question: {question}\n",
    "\"\"\"\n",
    "prompt = ChatPromptTemplate.from_template(template)\n",
    "\n",
    "# Create chain\n",
    "chain = (\n",
    "    {\"context\": retriever, \"question\": RunnablePassthrough()}\n",
    "    | prompt\n",
    "    | llm\n",
    "    | StrOutputParser()\n",
    ")"
   ]
  },
  {
   "cell_type": "markdown",
   "id": "98fbe14f-c460-46ac-bb99-1a98051fd3d9",
   "metadata": {},
   "source": [
    "# Chatting with the PDF\n",
    "## Question 1:"
   ]
  },
  {
   "cell_type": "code",
   "execution_count": null,
   "id": "1ee1f4ee-1822-4ad4-b587-f6c2ae00838e",
   "metadata": {},
   "outputs": [],
   "source": [
    "chat_interface(chain, 'What is the central theme of the paper?')"
   ]
  },
  {
   "cell_type": "markdown",
   "id": "f759f78d-7c59-490f-8870-c9c9e8fd1006",
   "metadata": {},
   "source": [
    "## Question 2:"
   ]
  },
  {
   "cell_type": "code",
   "execution_count": null,
   "id": "bd46db8b-cf42-44d1-a7e8-ce88187a5554",
   "metadata": {},
   "outputs": [],
   "source": [
    "chat_interface('How is AI changing adult education?')"
   ]
  },
  {
   "cell_type": "markdown",
   "id": "0044fe51-b1b1-4ea4-9512-1a0326671821",
   "metadata": {},
   "source": [
    "## Question 3:"
   ]
  },
  {
   "cell_type": "code",
   "execution_count": null,
   "id": "c425aef9-c0d4-4ac0-bda6-d4c319a1c305",
   "metadata": {},
   "outputs": [],
   "source": [
    "chat_interface(\"What makes adult learners' needs unique?\")"
   ]
  },
  {
   "cell_type": "markdown",
   "id": "09ced2a7-d976-4088-a74b-1af96184bf69",
   "metadata": {},
   "source": [
    "## Question 4:"
   ]
  },
  {
   "cell_type": "code",
   "execution_count": null,
   "id": "5b44acac-587d-454c-adaa-1b11335e5201",
   "metadata": {},
   "outputs": [],
   "source": [
    "chat_interface('What are the key benefits of AI in distance learning?')"
   ]
  },
  {
   "cell_type": "markdown",
   "id": "46148151-71e3-41aa-8d30-13ef3e0c15b5",
   "metadata": {},
   "source": [
    "## Question 5:"
   ]
  },
  {
   "cell_type": "code",
   "execution_count": null,
   "id": "d0644a3e-5e2f-426d-8a37-44a7ee6ac5c1",
   "metadata": {},
   "outputs": [],
   "source": [
    "chat_interface('Which AI tools are mentioned for educational use?')"
   ]
  },
  {
   "cell_type": "code",
   "execution_count": 1,
   "id": "6bf9a083-632b-45e8-97ad-aa81235ffcff",
   "metadata": {},
   "outputs": [
    {
     "name": "stdout",
     "output_type": "stream",
     "text": [
      "Requirement already satisfied: streamlit in /opt/anaconda3/envs/env/lib/python3.10/site-packages (1.40.0)\n",
      "Requirement already satisfied: altair<6,>=4.0 in /opt/anaconda3/envs/env/lib/python3.10/site-packages (from streamlit) (5.5.0)\n",
      "Requirement already satisfied: blinker<2,>=1.0.0 in /opt/anaconda3/envs/env/lib/python3.10/site-packages (from streamlit) (1.9.0)\n",
      "Requirement already satisfied: cachetools<6,>=4.0 in /opt/anaconda3/envs/env/lib/python3.10/site-packages (from streamlit) (5.5.2)\n",
      "Requirement already satisfied: click<9,>=7.0 in /opt/anaconda3/envs/env/lib/python3.10/site-packages (from streamlit) (8.1.8)\n",
      "Requirement already satisfied: numpy<3,>=1.20 in /opt/anaconda3/envs/env/lib/python3.10/site-packages (from streamlit) (1.26.4)\n",
      "Requirement already satisfied: packaging<25,>=20 in /opt/anaconda3/envs/env/lib/python3.10/site-packages (from streamlit) (24.2)\n",
      "Requirement already satisfied: pandas<3,>=1.4.0 in /opt/anaconda3/envs/env/lib/python3.10/site-packages (from streamlit) (2.2.3)\n",
      "Requirement already satisfied: pillow<12,>=7.1.0 in /opt/anaconda3/envs/env/lib/python3.10/site-packages (from streamlit) (10.4.0)\n",
      "Requirement already satisfied: protobuf<6,>=3.20 in /opt/anaconda3/envs/env/lib/python3.10/site-packages (from streamlit) (5.29.2)\n",
      "Requirement already satisfied: pyarrow>=7.0 in /opt/anaconda3/envs/env/lib/python3.10/site-packages (from streamlit) (20.0.0)\n",
      "Requirement already satisfied: requests<3,>=2.27 in /opt/anaconda3/envs/env/lib/python3.10/site-packages (from streamlit) (2.32.3)\n",
      "Requirement already satisfied: rich<14,>=10.14.0 in /opt/anaconda3/envs/env/lib/python3.10/site-packages (from streamlit) (13.9.4)\n",
      "Requirement already satisfied: tenacity<10,>=8.1.0 in /opt/anaconda3/envs/env/lib/python3.10/site-packages (from streamlit) (9.1.2)\n",
      "Requirement already satisfied: toml<2,>=0.10.1 in /opt/anaconda3/envs/env/lib/python3.10/site-packages (from streamlit) (0.10.2)\n",
      "Requirement already satisfied: typing-extensions<5,>=4.3.0 in /opt/anaconda3/envs/env/lib/python3.10/site-packages (from streamlit) (4.12.2)\n",
      "Requirement already satisfied: gitpython!=3.1.19,<4,>=3.0.7 in /opt/anaconda3/envs/env/lib/python3.10/site-packages (from streamlit) (3.1.44)\n",
      "Requirement already satisfied: pydeck<1,>=0.8.0b4 in /opt/anaconda3/envs/env/lib/python3.10/site-packages (from streamlit) (0.9.1)\n",
      "Requirement already satisfied: tornado<7,>=6.0.3 in /opt/anaconda3/envs/env/lib/python3.10/site-packages (from streamlit) (6.4.2)\n",
      "Requirement already satisfied: jinja2 in /opt/anaconda3/envs/env/lib/python3.10/site-packages (from altair<6,>=4.0->streamlit) (3.1.6)\n",
      "Requirement already satisfied: jsonschema>=3.0 in /opt/anaconda3/envs/env/lib/python3.10/site-packages (from altair<6,>=4.0->streamlit) (4.23.0)\n",
      "Requirement already satisfied: narwhals>=1.14.2 in /opt/anaconda3/envs/env/lib/python3.10/site-packages (from altair<6,>=4.0->streamlit) (1.38.0)\n",
      "Requirement already satisfied: gitdb<5,>=4.0.1 in /opt/anaconda3/envs/env/lib/python3.10/site-packages (from gitpython!=3.1.19,<4,>=3.0.7->streamlit) (4.0.12)\n",
      "Requirement already satisfied: python-dateutil>=2.8.2 in /opt/anaconda3/envs/env/lib/python3.10/site-packages (from pandas<3,>=1.4.0->streamlit) (2.9.0.post0)\n",
      "Requirement already satisfied: pytz>=2020.1 in /opt/anaconda3/envs/env/lib/python3.10/site-packages (from pandas<3,>=1.4.0->streamlit) (2025.2)\n",
      "Requirement already satisfied: tzdata>=2022.7 in /opt/anaconda3/envs/env/lib/python3.10/site-packages (from pandas<3,>=1.4.0->streamlit) (2025.2)\n",
      "Requirement already satisfied: charset-normalizer<4,>=2 in /opt/anaconda3/envs/env/lib/python3.10/site-packages (from requests<3,>=2.27->streamlit) (3.3.2)\n",
      "Requirement already satisfied: idna<4,>=2.5 in /opt/anaconda3/envs/env/lib/python3.10/site-packages (from requests<3,>=2.27->streamlit) (3.7)\n",
      "Requirement already satisfied: urllib3<3,>=1.21.1 in /opt/anaconda3/envs/env/lib/python3.10/site-packages (from requests<3,>=2.27->streamlit) (2.3.0)\n",
      "Requirement already satisfied: certifi>=2017.4.17 in /opt/anaconda3/envs/env/lib/python3.10/site-packages (from requests<3,>=2.27->streamlit) (2025.4.26)\n",
      "Requirement already satisfied: markdown-it-py>=2.2.0 in /opt/anaconda3/envs/env/lib/python3.10/site-packages (from rich<14,>=10.14.0->streamlit) (3.0.0)\n",
      "Requirement already satisfied: pygments<3.0.0,>=2.13.0 in /opt/anaconda3/envs/env/lib/python3.10/site-packages (from rich<14,>=10.14.0->streamlit) (2.19.1)\n",
      "Requirement already satisfied: smmap<6,>=3.0.1 in /opt/anaconda3/envs/env/lib/python3.10/site-packages (from gitdb<5,>=4.0.1->gitpython!=3.1.19,<4,>=3.0.7->streamlit) (5.0.2)\n",
      "Requirement already satisfied: MarkupSafe>=2.0 in /opt/anaconda3/envs/env/lib/python3.10/site-packages (from jinja2->altair<6,>=4.0->streamlit) (3.0.2)\n",
      "Requirement already satisfied: attrs>=22.2.0 in /opt/anaconda3/envs/env/lib/python3.10/site-packages (from jsonschema>=3.0->altair<6,>=4.0->streamlit) (24.3.0)\n",
      "Requirement already satisfied: jsonschema-specifications>=2023.03.6 in /opt/anaconda3/envs/env/lib/python3.10/site-packages (from jsonschema>=3.0->altair<6,>=4.0->streamlit) (2023.7.1)\n",
      "Requirement already satisfied: referencing>=0.28.4 in /opt/anaconda3/envs/env/lib/python3.10/site-packages (from jsonschema>=3.0->altair<6,>=4.0->streamlit) (0.30.2)\n",
      "Requirement already satisfied: rpds-py>=0.7.1 in /opt/anaconda3/envs/env/lib/python3.10/site-packages (from jsonschema>=3.0->altair<6,>=4.0->streamlit) (0.22.3)\n",
      "Requirement already satisfied: mdurl~=0.1 in /opt/anaconda3/envs/env/lib/python3.10/site-packages (from markdown-it-py>=2.2.0->rich<14,>=10.14.0->streamlit) (0.1.2)\n",
      "Requirement already satisfied: six>=1.5 in /opt/anaconda3/envs/env/lib/python3.10/site-packages (from python-dateutil>=2.8.2->pandas<3,>=1.4.0->streamlit) (1.17.0)\n",
      "Note: you may need to restart the kernel to use updated packages.\n"
     ]
    }
   ],
   "source": [
    "pip install streamlit"
   ]
  },
  {
   "cell_type": "code",
   "execution_count": null,
   "id": "c2da960d-7e3c-4123-a560-b1f29550876a",
   "metadata": {},
   "outputs": [],
   "source": []
  }
 ],
 "metadata": {
  "kernelspec": {
   "display_name": "Python 3 (ipykernel)",
   "language": "python",
   "name": "python3"
  },
  "language_info": {
   "codemirror_mode": {
    "name": "ipython",
    "version": 3
   },
   "file_extension": ".py",
   "mimetype": "text/x-python",
   "name": "python",
   "nbconvert_exporter": "python",
   "pygments_lexer": "ipython3",
   "version": "3.10.16"
  }
 },
 "nbformat": 4,
 "nbformat_minor": 5
}
