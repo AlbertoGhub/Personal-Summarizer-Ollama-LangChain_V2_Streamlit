{
 "cells": [
  {
   "cell_type": "markdown",
   "id": "399f6fc7-c68c-45f8-bc61-7c1c1901369b",
   "metadata": {},
   "source": [
    "# Importing libraries"
   ]
  },
  {
   "cell_type": "code",
   "execution_count": 1,
   "id": "b16f3c7d-fae2-4ad4-8dc8-7f1caf4d4dfb",
   "metadata": {},
   "outputs": [],
   "source": [
    "# LangChain\n",
    "from langchain.prompts import ChatPromptTemplate, PromptTemplate\n",
    "from langchain_core.output_parsers import StrOutputParser\n",
    "from langchain_ollama.chat_models import ChatOllama\n",
    "from langchain_core.runnables import RunnablePassthrough\n",
    "from langchain.retrievers.multi_query import MultiQueryRetriever\n",
    "\n",
    "# Removing warnings\n",
    "import warnings\n",
    "warnings.filterwarnings('ignore')\n",
    "\n",
    "# System libraries\n",
    "import sys\n",
    "import os\n",
    "\n",
    "# Add the parent directory to sys.path\n",
    "sys.path.append(os.path.abspath('../src'))\n",
    "\n",
    "# Importing modules\n",
    "from modules.ingesting import loading_PDF, chunking, data_base\n",
    "from modules.chat_app import chat_interface"
   ]
  },
  {
   "cell_type": "markdown",
   "id": "8f561765-cb1b-4b3d-aa2f-21a75b14682c",
   "metadata": {},
   "source": [
    "# Loading PDF"
   ]
  },
  {
   "cell_type": "code",
   "execution_count": 2,
   "id": "1646122a-43b6-43b4-a544-1108fa679a38",
   "metadata": {},
   "outputs": [
    {
     "name": "stdout",
     "output_type": "stream",
     "text": [
      "Loading the document...\n",
      "PDF loaded successfully\n"
     ]
    }
   ],
   "source": [
    "pdf = loading_PDF('../data/PDFs/Sustainable_development_of_distance_learning_in_continuing_adult_education__The impact_of_artificial_intelligence.pdf') # Please, input the PDF path"
   ]
  },
  {
   "cell_type": "markdown",
   "id": "a6b732e8-271e-4f81-bac7-6f60df47b53a",
   "metadata": {},
   "source": [
    "# Embedding process\n",
    "- ```Chunking```\n",
    "- Adding to the database ```(Chroma)```\n",
    "- ```RAG (retrival - Summirisation)```\n",
    "\n",
    "## Chunking"
   ]
  },
  {
   "cell_type": "code",
   "execution_count": 3,
   "id": "bc0cce18-afee-4944-99d6-f78910b1c1ac",
   "metadata": {},
   "outputs": [
    {
     "name": "stdout",
     "output_type": "stream",
     "text": [
      "The chunking process is complete with a final number of chunks of 32\n"
     ]
    }
   ],
   "source": [
    "chunks = chunking(pdf);"
   ]
  },
  {
   "cell_type": "markdown",
   "id": "6f2be6f9-ad4d-4d22-a218-ebf01ee2108f",
   "metadata": {},
   "source": [
    "## Adding to the database (Chroma)"
   ]
  },
  {
   "cell_type": "code",
   "execution_count": 4,
   "id": "d328aa56-6534-46c6-b6c1-b8b5ed2fdf19",
   "metadata": {},
   "outputs": [
    {
     "name": "stdout",
     "output_type": "stream",
     "text": [
      "Vector database created successfully\n"
     ]
    }
   ],
   "source": [
    "data_base = data_base(chunks)"
   ]
  },
  {
   "cell_type": "markdown",
   "id": "eac1bd26-66ca-435a-8165-d63744e5a940",
   "metadata": {},
   "source": [
    "## RAG\n",
    "In this case, the Gemma2 model was implemented because it is faster, but it was already tested on llama3.2, which is more robust. "
   ]
  },
  {
   "cell_type": "code",
   "execution_count": 5,
   "id": "8bd20366-185f-4dc7-8c2c-5bc13d8ba048",
   "metadata": {},
   "outputs": [],
   "source": [
    "# LLM\n",
    "llm = ChatOllama(model='Gemma2')\n",
    "\n",
    "# Template\n",
    "prompt = PromptTemplate(\n",
    "    input_variables=[\"question\"],\n",
    "    template=\"\"\"You are an AI language model assistant. Your task is to generate 2\n",
    "    different versions of the given user question to retrieve relevant documents from\n",
    "    a vector database. By generating multiple perspectives on the user question, your\n",
    "    goal is to help the user overcome some of the limitations of the distance-based\n",
    "    similarity search. Provide these alternative questions separated by newlines.\n",
    "    Original question: {question}\"\"\",\n",
    ")\n",
    "\n",
    "# Retrieving\n",
    "retriever = MultiQueryRetriever.from_llm(\n",
    "    data_base.as_retriever(), \n",
    "    llm,\n",
    "    prompt=prompt\n",
    ")"
   ]
  },
  {
   "cell_type": "markdown",
   "id": "dc6c0efd-0c42-4c45-8a2a-5991966d0625",
   "metadata": {},
   "source": [
    "# Create chain"
   ]
  },
  {
   "cell_type": "code",
   "execution_count": 6,
   "id": "201e2d1d-45db-4f25-933f-f33d1c7c004b",
   "metadata": {},
   "outputs": [],
   "source": [
    "# RAG prompt template\n",
    "template = \"\"\"Answer the question based ONLY on the following context: {context}\n",
    "Question: {question}\n",
    "\"\"\"\n",
    "prompt = ChatPromptTemplate.from_template(template)\n",
    "\n",
    "# Create chain\n",
    "chain = (\n",
    "    {\"context\": retriever, \"question\": RunnablePassthrough()}\n",
    "    | prompt\n",
    "    | llm\n",
    "    | StrOutputParser()\n",
    ")"
   ]
  },
  {
   "cell_type": "markdown",
   "id": "98fbe14f-c460-46ac-bb99-1a98051fd3d9",
   "metadata": {},
   "source": [
    "# Chatting with the PDF\n",
    "## Question 1:"
   ]
  },
  {
   "cell_type": "code",
   "execution_count": 7,
   "id": "1ee1f4ee-1822-4ad4-b587-f6c2ae00838e",
   "metadata": {},
   "outputs": [
    {
     "ename": "NameError",
     "evalue": "name 'chain' is not defined",
     "output_type": "error",
     "traceback": [
      "\u001b[0;31m---------------------------------------------------------------------------\u001b[0m",
      "\u001b[0;31mNameError\u001b[0m                                 Traceback (most recent call last)",
      "Cell \u001b[0;32mIn[7], line 1\u001b[0m\n\u001b[0;32m----> 1\u001b[0m \u001b[43mchat_interface\u001b[49m\u001b[43m(\u001b[49m\u001b[38;5;124;43m'\u001b[39;49m\u001b[38;5;124;43mWhat is the central theme of the paper?\u001b[39;49m\u001b[38;5;124;43m'\u001b[39;49m\u001b[43m)\u001b[49m\n",
      "File \u001b[0;32m~/Documents/Coding/2_LangChain_Projects/3_Personal-Summarizer-Ollama-LangChain_V2_Streamlit/src/modules/chat_app.py:10\u001b[0m, in \u001b[0;36mchat_interface\u001b[0;34m(question)\u001b[0m\n\u001b[1;32m      6\u001b[0m \u001b[38;5;28;01mdef\u001b[39;00m\u001b[38;5;250m \u001b[39m\u001b[38;5;21mchat_interface\u001b[39m(question):\n\u001b[1;32m      7\u001b[0m \u001b[38;5;250m    \u001b[39m\u001b[38;5;124;03m\"\"\"\u001b[39;00m\n\u001b[1;32m      8\u001b[0m \u001b[38;5;124;03m    TO CHAT WITH THE PDF\u001b[39;00m\n\u001b[1;32m      9\u001b[0m \u001b[38;5;124;03m    \"\"\"\u001b[39;00m\n\u001b[0;32m---> 10\u001b[0m     \u001b[38;5;28;01mreturn\u001b[39;00m display(Markdown(\u001b[43mchain\u001b[49m\u001b[38;5;241m.\u001b[39minvoke(question)))\n",
      "\u001b[0;31mNameError\u001b[0m: name 'chain' is not defined"
     ]
    }
   ],
   "source": [
    "chat_interface(chain, 'What is the central theme of the paper?')"
   ]
  },
  {
   "cell_type": "markdown",
   "id": "f759f78d-7c59-490f-8870-c9c9e8fd1006",
   "metadata": {},
   "source": [
    "## Question 2:"
   ]
  },
  {
   "cell_type": "code",
   "execution_count": null,
   "id": "bd46db8b-cf42-44d1-a7e8-ce88187a5554",
   "metadata": {},
   "outputs": [],
   "source": [
    "chat_interface('How is AI changing adult education?')"
   ]
  },
  {
   "cell_type": "markdown",
   "id": "0044fe51-b1b1-4ea4-9512-1a0326671821",
   "metadata": {},
   "source": [
    "## Question 3:"
   ]
  },
  {
   "cell_type": "code",
   "execution_count": null,
   "id": "c425aef9-c0d4-4ac0-bda6-d4c319a1c305",
   "metadata": {},
   "outputs": [],
   "source": [
    "chat_interface(\"What makes adult learners' needs unique?\")"
   ]
  },
  {
   "cell_type": "markdown",
   "id": "09ced2a7-d976-4088-a74b-1af96184bf69",
   "metadata": {},
   "source": [
    "## Question 4:"
   ]
  },
  {
   "cell_type": "code",
   "execution_count": null,
   "id": "5b44acac-587d-454c-adaa-1b11335e5201",
   "metadata": {},
   "outputs": [],
   "source": [
    "chat_interface('What are the key benefits of AI in distance learning?')"
   ]
  },
  {
   "cell_type": "markdown",
   "id": "46148151-71e3-41aa-8d30-13ef3e0c15b5",
   "metadata": {},
   "source": [
    "## Question 5:"
   ]
  },
  {
   "cell_type": "code",
   "execution_count": null,
   "id": "d0644a3e-5e2f-426d-8a37-44a7ee6ac5c1",
   "metadata": {},
   "outputs": [],
   "source": [
    "chat_interface('Which AI tools are mentioned for educational use?')"
   ]
  }
 ],
 "metadata": {
  "kernelspec": {
   "display_name": "Python 3 (ipykernel)",
   "language": "python",
   "name": "python3"
  },
  "language_info": {
   "codemirror_mode": {
    "name": "ipython",
    "version": 3
   },
   "file_extension": ".py",
   "mimetype": "text/x-python",
   "name": "python",
   "nbconvert_exporter": "python",
   "pygments_lexer": "ipython3",
   "version": "3.10.16"
  }
 },
 "nbformat": 4,
 "nbformat_minor": 5
}
